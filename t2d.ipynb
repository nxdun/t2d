{
  "cells": [
    {
      "cell_type": "markdown",
      "metadata": {
        "id": "view-in-github",
        "colab_type": "text"
      },
      "source": [
        "<a href=\"https://colab.research.google.com/github/nxdun/t2d/blob/main/t2d.ipynb\" target=\"_parent\"><img src=\"https://colab.research.google.com/assets/colab-badge.svg\" alt=\"Open In Colab\"/></a>"
      ]
    },
    {
      "cell_type": "code",
      "execution_count": null,
      "metadata": {
        "id": "E0Xkp1jmCbeP"
      },
      "outputs": [],
      "source": [
        "#@title **<- Install dependencies and Mount Gdrive** { vertical-output: true, display-mode: \"form\" }\n",
        "!apt install python3-libtorrent\n",
        "!pip3 install lbry-libtorrent\n",
        "\n",
        "from google.colab import drive\n",
        "drive.mount('/content/drive')"
      ]
    },
    {
      "cell_type": "code",
      "execution_count": null,
      "metadata": {
        "id": "4TkMidhMmCrK"
      },
      "outputs": [],
      "source": [
        "#@title **<- Click the play button for start download** { vertical-output: true, display-mode: \"form\" }\n",
        "#@markdown <br><center><h1><b>TTGD</b></h1></ceneter>\n",
        "magnetLinks = \"magnet:?xt=urn:btih:2E5SQAM4WDC63T6447Q3DMU2J7Z37PI6&dn=Hogwarts%20Legacy%20%5BDODI%20Repack%5D&tr=udp%3A%2F%2F9.rarbg.to%3A2870%2Fannounce\" #@param {type:\"string\"}\n",
        "gdriveDownloadPath = \"Git\" #@param {type:\"string\"}\n",
        "compressionMethod = \"none\" #@param [\"none\", \"TAR\", \"TAR.XZ\"]\n",
        "\n",
        "#@markdown <br><h1><b>Read Me<b></h1>\n",
        "#@markdown - To download multiple torrents, paste all the magnet links separated by a space \" \". Not recomended unless you want to get band from google\n",
        "#@markdown - TAR compression method\n",
        "#@markdown  - Lower compression ratio\n",
        "#@markdown  - Lower compression time\n",
        "#@markdown - TAR.XZ compression method\n",
        "#@markdown  - Higher compression ratio\n",
        "#@markdown  - Higher compression time<br>\n",
        "\n",
        "import libtorrent as lt\n",
        "import shutil, string, time, re,  os\n",
        "\n",
        "magnetLinks = magnetLinks.split(\" \")\n",
        "gdriveDownloadPath = os.path.join(\"/content/drive/MyDrive\", gdriveDownloadPath)\n",
        "torrentDownloadPath = \"/content/Work_space/DTORRENT/\"\n",
        "torrentCompressPath = \"/content/Work_space/CTORRENT/\"\n",
        "chars = re.escape(string.punctuation)\n",
        "\n",
        "if not os.path.isdir(gdriveDownloadPath):\n",
        "  os.mkdir(gdriveDownloadPath)\n",
        "\n",
        "if compressionMethod == \"TAR\":\n",
        "  cMethod = \"tar\"\n",
        "  cExtention = \".tar\"\n",
        "elif compressionMethod == \"TAR.XZ\":\n",
        "  cMethod = \"xztar\"\n",
        "  cExtention = \".tar.xz\"\n",
        "elif compressionMethod == \"none\":\n",
        "  cMethod = \"none\"\n",
        "  cExtention = \"none\"\n",
        "\n",
        "for magnetLink in magnetLinks:\n",
        "\n",
        "  downloadConfig = {\n",
        "      'save_path': torrentDownloadPath,\n",
        "      'storage_mode': lt.storage_mode_t(2)}\n",
        "\n",
        "  SESSION = lt.session()\n",
        "  SESSION.listen_on(6881, 6891)\n",
        "  DOWNLOADER = lt.add_magnet_uri(SESSION, magnetLink, downloadConfig)\n",
        "  SESSION.start_dht()\n",
        "\n",
        "  print(\"\\n[*]Collecting metadata...\")\n",
        "\n",
        "  while not DOWNLOADER.has_metadata():\n",
        "    time.sleep(1)\n",
        "\n",
        "  NAME = str(DOWNLOADER.status().name)\n",
        "\n",
        "  print(\"\\n[*]Metadata collected...\")\n",
        "  print(f\"[*]{NAME} downloading started...\\n\")\n",
        "\n",
        "  while not DOWNLOADER.status().is_seeding:\n",
        "    update = DOWNLOADER.status()\n",
        "\n",
        "    print(f\"[!] {round(update.progress*100, 2):5n}% completed | download_rate: {round(update.download_rate/1000000, 2):5n} MB/s | upload_rate: {round(update.upload_rate/1000000, 2):5n} MB/s | peers_connected: {(update.num_peers):3n} | state: {update.state}\")\n",
        "\n",
        "    time.sleep(5)\n",
        "\n",
        "  print(\"\\n[*]Download completed...\")\n",
        "  print(f\"\\n[*]Adding files to a {compressionMethod} file...\")\n",
        "\n",
        "  encNAME = str(re.sub(r'['+chars+']', '',(NAME.encode(\"ascii\", \"ignore\")).decode())).replace(\" \", \"_\")\n",
        "\n",
        "  shutil.move(f\"{torrentDownloadPath}{NAME}\", f\"{torrentDownloadPath}{encNAME}\")\n",
        "\n",
        "  if cMethod != \"none\":\n",
        "    shutil.make_archive(f\"{torrentCompressPath}{encNAME}\", cMethod, f\"{torrentDownloadPath}\")\n",
        "\n",
        "  if cExtention == \"none\":\n",
        "    print(\"\\n[*]Moving downloaded files to Gdrive...\")\n",
        "    shutil.move(f\"{torrentDownloadPath}{encNAME}\", f\"{gdriveDownloadPath}/{encNAME}\")\n",
        "  else:\n",
        "    print(\"\\n[*]Moving compressed files to Gdrive...\")\n",
        "    shutil.move(f\"{torrentCompressPath}{encNAME}{cExtention}\", f\"{gdriveDownloadPath}/{encNAME}{cExtention}\")\n",
        "\n",
        "  print(\"\\n[*]Cleaning the disk...\")\n",
        "\n",
        "  shutil.rmtree(f\"{torrentDownloadPath}{encNAME}\", ignore_errors=True)\n",
        "\n",
        "print(\"\\n[*]Finished.\")\n",
        "print(\"\\n[!]Before you leave please make sure to Disconnect and delete the runtime\")"
      ]
    },
    {
      "cell_type": "markdown",
      "metadata": {
        "id": "AEb1bALHPYkm"
      },
      "source": [
        "# **Find me on**<br>\n",
        "- Odysee : [@mrtmash](https://odysee.com/$/invite/@mrtmash:d)\n",
        "- Github : [@mrtmash](https://github.com/mrtmash)\n",
        "\n",
        "### <br>**Before you leave please make sure to Disconnect and delete the runtime**"
      ]
    }
  ],
  "metadata": {
    "colab": {
      "private_outputs": true,
      "provenance": [],
      "include_colab_link": true
    },
    "kernelspec": {
      "display_name": "Python 3",
      "name": "python3"
    },
    "language_info": {
      "name": "python"
    }
  },
  "nbformat": 4,
  "nbformat_minor": 0
}